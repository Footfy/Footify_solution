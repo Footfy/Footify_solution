{
 "cells": [
  {
   "cell_type": "code",
   "execution_count": 3,
   "metadata": {},
   "outputs": [],
   "source": [
    "# ETL - Extração e Carga de dados para Oracle\n",
    "import pandas as pd\n",
    "from sqlalchemy import create_engine\n"
   ]
  },
  {
   "cell_type": "code",
   "execution_count": 4,
   "metadata": {},
   "outputs": [
    {
     "name": "stdout",
     "output_type": "stream",
     "text": [
      "Prévia dos dados:\n",
      "                     product_name  product_id  listing_price  sale_price  \\\n",
      "0  Nike Air Force 1 '07 Essential  CJ1646-600              0        7495   \n",
      "1            Nike Air Force 1 '07  CT4328-101              0        7495   \n",
      "2    Nike Air Force 1 Sage Low LX  CI3482-200              0        9995   \n",
      "3             Nike Air Max Dia SE  CD0479-200              0        9995   \n",
      "4             Nike Air Max Verona  CZ6156-101              0        9995   \n",
      "\n",
      "   discount brand                                        description  rating  \\\n",
      "0         0  Nike  Let your shoe game shimmer in the Nike Air For...     0.0   \n",
      "1         0  Nike  The legend lives on in the Nike Air Force 1 '0...     0.0   \n",
      "2         0  Nike  Taking both height and craft to new levels, th...     0.0   \n",
      "3         0  Nike  Designed for a woman's foot, the Nike Air Max ...     0.0   \n",
      "4         0  Nike  Pass on the good vibes in the Nike Air Max Ver...     0.0   \n",
      "\n",
      "   reviews                                             images  \n",
      "0        0  [\"https://static.nike.com/a/images/t_PDP_1728_...  \n",
      "1        0  [\"https://static.nike.com/a/images/t_PDP_1728_...  \n",
      "2        0  [\"https://static.nike.com/a/images/t_PDP_1728_...  \n",
      "3        0  [\"https://static.nike.com/a/images/t_PDP_1728_...  \n",
      "4        0  [\"https://static.nike.com/a/images/t_PDP_1728_...  \n"
     ]
    }
   ],
   "source": [
    "# 🔹 ETAPA 1: EXTRAÇÃO DOS DADOS CSV\n",
    "caminho_csv = 'nike_shoes_sales.csv'\n",
    "df_csv = pd.read_csv(caminho_csv)\n",
    "\n",
    "# Pré-visualização\n",
    "print(\"Prévia dos dados:\")\n",
    "print(df_csv.head())\n",
    "\n",
    "# 🔹 ETAPA 2: TRANSFORMAÇÃO DOS DADOS\n",
    "# Aqui você pode ajustar os nomes das colunas, remover duplicados, preencher nulos, etc.\n",
    "df_csv.columns = [col.strip().lower().replace(\" \", \"_\") for col in df_csv.columns]\n",
    "\n",
    "# Exemplo: eliminar nulos e duplicados\n",
    "df_csv.dropna(inplace=True)\n",
    "df_csv.drop_duplicates(inplace=True)"
   ]
  },
  {
   "cell_type": "code",
   "execution_count": 5,
   "metadata": {},
   "outputs": [
    {
     "ename": "ModuleNotFoundError",
     "evalue": "No module named 'cx_Oracle'",
     "output_type": "error",
     "traceback": [
      "\u001b[1;31m---------------------------------------------------------------------------\u001b[0m",
      "\u001b[1;31mModuleNotFoundError\u001b[0m                       Traceback (most recent call last)",
      "Cell \u001b[1;32mIn[5], line 13\u001b[0m\n\u001b[0;32m     10\u001b[0m str_conexao \u001b[38;5;241m=\u001b[39m \u001b[38;5;124mf\u001b[39m\u001b[38;5;124m'\u001b[39m\u001b[38;5;124moracle+cx_oracle://\u001b[39m\u001b[38;5;132;01m{\u001b[39;00musuario\u001b[38;5;132;01m}\u001b[39;00m\u001b[38;5;124m:\u001b[39m\u001b[38;5;132;01m{\u001b[39;00msenha\u001b[38;5;132;01m}\u001b[39;00m\u001b[38;5;124m@\u001b[39m\u001b[38;5;132;01m{\u001b[39;00mhost\u001b[38;5;132;01m}\u001b[39;00m\u001b[38;5;124m:\u001b[39m\u001b[38;5;132;01m{\u001b[39;00mporta\u001b[38;5;132;01m}\u001b[39;00m\u001b[38;5;124m/?service_name=\u001b[39m\u001b[38;5;132;01m{\u001b[39;00msid\u001b[38;5;132;01m}\u001b[39;00m\u001b[38;5;124m'\u001b[39m\n\u001b[0;32m     12\u001b[0m \u001b[38;5;66;03m# Criação da engine\u001b[39;00m\n\u001b[1;32m---> 13\u001b[0m engine \u001b[38;5;241m=\u001b[39m \u001b[43mcreate_engine\u001b[49m\u001b[43m(\u001b[49m\u001b[43mstr_conexao\u001b[49m\u001b[43m)\u001b[49m\n\u001b[0;32m     15\u001b[0m \u001b[38;5;66;03m# Nome da tabela de destino no Oracle\u001b[39;00m\n\u001b[0;32m     16\u001b[0m nome_tabela \u001b[38;5;241m=\u001b[39m \u001b[38;5;124m'\u001b[39m\u001b[38;5;124mTABELA_CLIENTES\u001b[39m\u001b[38;5;124m'\u001b[39m\n",
      "File \u001b[1;32m<string>:2\u001b[0m, in \u001b[0;36mcreate_engine\u001b[1;34m(url, **kwargs)\u001b[0m\n",
      "File \u001b[1;32mc:\\Users\\Richard\\AppData\\Local\\Programs\\Python\\Python312\\Lib\\site-packages\\sqlalchemy\\util\\deprecations.py:281\u001b[0m, in \u001b[0;36mdeprecated_params.<locals>.decorate.<locals>.warned\u001b[1;34m(fn, *args, **kwargs)\u001b[0m\n\u001b[0;32m    274\u001b[0m     \u001b[38;5;28;01mif\u001b[39;00m m \u001b[38;5;129;01min\u001b[39;00m kwargs:\n\u001b[0;32m    275\u001b[0m         _warn_with_version(\n\u001b[0;32m    276\u001b[0m             messages[m],\n\u001b[0;32m    277\u001b[0m             versions[m],\n\u001b[0;32m    278\u001b[0m             version_warnings[m],\n\u001b[0;32m    279\u001b[0m             stacklevel\u001b[38;5;241m=\u001b[39m\u001b[38;5;241m3\u001b[39m,\n\u001b[0;32m    280\u001b[0m         )\n\u001b[1;32m--> 281\u001b[0m \u001b[38;5;28;01mreturn\u001b[39;00m \u001b[43mfn\u001b[49m\u001b[43m(\u001b[49m\u001b[38;5;241;43m*\u001b[39;49m\u001b[43margs\u001b[49m\u001b[43m,\u001b[49m\u001b[43m \u001b[49m\u001b[38;5;241;43m*\u001b[39;49m\u001b[38;5;241;43m*\u001b[39;49m\u001b[43mkwargs\u001b[49m\u001b[43m)\u001b[49m\n",
      "File \u001b[1;32mc:\\Users\\Richard\\AppData\\Local\\Programs\\Python\\Python312\\Lib\\site-packages\\sqlalchemy\\engine\\create.py:599\u001b[0m, in \u001b[0;36mcreate_engine\u001b[1;34m(url, **kwargs)\u001b[0m\n\u001b[0;32m    597\u001b[0m         \u001b[38;5;28;01mif\u001b[39;00m k \u001b[38;5;129;01min\u001b[39;00m kwargs:\n\u001b[0;32m    598\u001b[0m             dbapi_args[k] \u001b[38;5;241m=\u001b[39m pop_kwarg(k)\n\u001b[1;32m--> 599\u001b[0m     dbapi \u001b[38;5;241m=\u001b[39m \u001b[43mdbapi_meth\u001b[49m\u001b[43m(\u001b[49m\u001b[38;5;241;43m*\u001b[39;49m\u001b[38;5;241;43m*\u001b[39;49m\u001b[43mdbapi_args\u001b[49m\u001b[43m)\u001b[49m\n\u001b[0;32m    601\u001b[0m dialect_args[\u001b[38;5;124m\"\u001b[39m\u001b[38;5;124mdbapi\u001b[39m\u001b[38;5;124m\"\u001b[39m] \u001b[38;5;241m=\u001b[39m dbapi\n\u001b[0;32m    603\u001b[0m dialect_args\u001b[38;5;241m.\u001b[39msetdefault(\u001b[38;5;124m\"\u001b[39m\u001b[38;5;124mcompiler_linting\u001b[39m\u001b[38;5;124m\"\u001b[39m, compiler\u001b[38;5;241m.\u001b[39mNO_LINTING)\n",
      "File \u001b[1;32mc:\\Users\\Richard\\AppData\\Local\\Programs\\Python\\Python312\\Lib\\site-packages\\sqlalchemy\\dialects\\oracle\\cx_oracle.py:1104\u001b[0m, in \u001b[0;36mOracleDialect_cx_oracle.import_dbapi\u001b[1;34m(cls)\u001b[0m\n\u001b[0;32m   1102\u001b[0m \u001b[38;5;129m@classmethod\u001b[39m\n\u001b[0;32m   1103\u001b[0m \u001b[38;5;28;01mdef\u001b[39;00m \u001b[38;5;21mimport_dbapi\u001b[39m(\u001b[38;5;28mcls\u001b[39m):\n\u001b[1;32m-> 1104\u001b[0m     \u001b[38;5;28;01mimport\u001b[39;00m \u001b[38;5;21;01mcx_Oracle\u001b[39;00m\n\u001b[0;32m   1106\u001b[0m     \u001b[38;5;28;01mreturn\u001b[39;00m cx_Oracle\n",
      "\u001b[1;31mModuleNotFoundError\u001b[0m: No module named 'cx_Oracle'"
     ]
    }
   ],
   "source": [
    "# 🔹 ETAPA 3: CARGA PARA ORACLE\n",
    "# Conexão com Oracle (ajuste os dados conforme seu ambiente)\n",
    "usuario = 'rm559344'\n",
    "senha = 'fiap24'\n",
    "host = 'oracle.fiap.com.br'\n",
    "porta = '1521'\n",
    "sid = 'orcl'\n",
    "\n",
    "# String de conexão Oracle via SQLAlchemy\n",
    "str_conexao = f'oracle+cx_oracle://{usuario}:{senha}@{host}:{porta}/?service_name={sid}'\n",
    "\n",
    "# Criação da engine\n",
    "engine = create_engine(str_conexao)\n",
    "\n",
    "# Nome da tabela de destino no Oracle\n",
    "nome_tabela = 'TABELA_CLIENTES'"
   ]
  },
  {
   "cell_type": "code",
   "execution_count": null,
   "metadata": {},
   "outputs": [],
   "source": [
    "# Envia os dados para o Oracle\n",
    "df_csv.to_sql(nome_tabela, con=engine, if_exists='replace', index=False)\n",
    "\n",
    "print(f'Dados carregados com sucesso na tabela \"{nome_tabela}\".')"
   ]
  }
 ],
 "metadata": {
  "kernelspec": {
   "display_name": "Python 3",
   "language": "python",
   "name": "python3"
  },
  "language_info": {
   "codemirror_mode": {
    "name": "ipython",
    "version": 3
   },
   "file_extension": ".py",
   "mimetype": "text/x-python",
   "name": "python",
   "nbconvert_exporter": "python",
   "pygments_lexer": "ipython3",
   "version": "3.12.4"
  }
 },
 "nbformat": 4,
 "nbformat_minor": 2
}
